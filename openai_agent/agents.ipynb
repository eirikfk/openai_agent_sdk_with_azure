{
 "cells": [
  {
   "cell_type": "code",
   "execution_count": null,
   "metadata": {},
   "outputs": [
    {
     "name": "stderr",
     "output_type": "stream",
     "text": [
      "OPENAI_API_KEY is not set, skipping trace export\n",
      "OPENAI_API_KEY is not set, skipping trace export\n"
     ]
    }
   ],
   "source": [
    "import os\n",
    "\n",
    "import dotenv\n",
    "from agents import (\n",
    "    Agent,\n",
    "    GuardrailFunctionOutput,\n",
    "    InputGuardrail,\n",
    "    InputGuardrailTripwireTriggered,\n",
    "    Runner,\n",
    "    RunResult,\n",
    "    set_default_openai_api,\n",
    "    set_default_openai_client,\n",
    ")\n",
    "from openai import AsyncAzureOpenAI, AsyncOpenAI\n",
    "from pydantic import BaseModel\n"
   ]
  },
  {
   "cell_type": "code",
   "execution_count": 4,
   "metadata": {},
   "outputs": [],
   "source": [
    "dotenv.load_dotenv()\n",
    "use_local_model = True\n",
    "\n",
    "azure_client = AsyncAzureOpenAI(\n",
    "    base_url=os.environ.get(\"AZURE_AOI_BASE_URL\"),\n",
    "    api_version=os.environ.get(\"AZURE_OAI_API_VERSION\"),\n",
    "    api_key=os.environ.get(\"AZURE_OAI_TOKEN\"),\n",
    "    azure_deployment=os.environ.get(\"AZURE_OAI_DEPLOYMENT_NAME\")\n",
    ")\n",
    "\n",
    "ollama_client = AsyncOpenAI(\n",
    "    base_url=\"http://host.docker.internal:11434/v1\",\n",
    "    api_key=\"ollama\",\n",
    ")\n",
    "\n",
    "set_default_openai_api(\"chat_completions\")\n",
    "\n",
    "if use_local_model:\n",
    "    set_default_openai_client(ollama_client, use_for_tracing=False)\n",
    "    model = \"llama3.1:latest\"\n",
    "else:\n",
    "    set_default_openai_client(azure_client, use_for_tracing=False)\n",
    "    model = \"gpt-4o\""
   ]
  },
  {
   "cell_type": "code",
   "execution_count": 5,
   "metadata": {},
   "outputs": [],
   "source": [
    "use_guardrails = True\n",
    "\n",
    "\n",
    "class HomeworkOutput(BaseModel):\n",
    "    is_homework: bool\n",
    "    reasoning: str\n",
    "\n",
    "\n",
    "async def homework_guardrail(ctx, agent, input_data):\n",
    "    result = await Runner.run(guardrail_agent, input_data, context=ctx.context)\n",
    "    final_output = result.final_output_as(HomeworkOutput)\n",
    "    return GuardrailFunctionOutput(\n",
    "        output_info=final_output,\n",
    "        tripwire_triggered=not final_output.is_homework,\n",
    "    )\n",
    "\n",
    "guardrail_agent = Agent(\n",
    "    name=\"Guardrail check\",\n",
    "    instructions=\"Check if the user is asking about homework.\",\n",
    "    model=model,\n",
    "    output_type=HomeworkOutput,\n",
    ")\n",
    "\n",
    "math_tutor_agent = Agent(\n",
    "    name=\"Math Tutor\",\n",
    "    handoff_description=\"Specialist agent for math questions\",\n",
    "    model=model,\n",
    "    instructions=\"You provide help with math problems. Explain your reasoning at each step and include examples\",\n",
    ")\n",
    "\n",
    "history_tutor_agent = Agent(\n",
    "    name=\"History Tutor\",\n",
    "    handoff_description=\"Specialist agent for historical questions\",\n",
    "    model=model,\n",
    "    instructions=\"You provide assistance with historical queries. Explain important events and context clearly.\",\n",
    ")\n",
    "\n",
    "\n",
    "triage_agent = Agent(\n",
    "    name=\"Triage Agent\",\n",
    "    instructions=\"You determine which agent to use based on the user's homework question\",\n",
    "    handoffs=[history_tutor_agent, math_tutor_agent],\n",
    "    model=model,\n",
    "    input_guardrails=[InputGuardrail(\n",
    "        guardrail_function=homework_guardrail)] if use_guardrails else [],\n",
    ")"
   ]
  },
  {
   "cell_type": "code",
   "execution_count": null,
   "metadata": {},
   "outputs": [],
   "source": [
    "async def main():\n",
    "    try:\n",
    "        result: RunResult = await Runner.run(\n",
    "            starting_agent=triage_agent,\n",
    "            input=\"who was the first president of the united states?\",\n",
    "            max_turns=5)\n",
    "        print(result.final_output)\n",
    "    except InputGuardrailTripwireTriggered as e:\n",
    "        print(f\"Guardrail triggered: {e.guardrail_result.output.output_info}\")"
   ]
  },
  {
   "cell_type": "code",
   "execution_count": 7,
   "metadata": {},
   "outputs": [
    {
     "name": "stdout",
     "output_type": "stream",
     "text": [
      "Guardrail triggered: is_homework=False reasoning='The question appears to be a general knowledge or trivia question, rather than a request for help with completing homework.'\n"
     ]
    }
   ],
   "source": [
    "await main()"
   ]
  }
 ],
 "metadata": {
  "kernelspec": {
   "display_name": "openai-agent-xS3fZVNL-py3.12",
   "language": "python",
   "name": "python3"
  },
  "language_info": {
   "codemirror_mode": {
    "name": "ipython",
    "version": 3
   },
   "file_extension": ".py",
   "mimetype": "text/x-python",
   "name": "python",
   "nbconvert_exporter": "python",
   "pygments_lexer": "ipython3",
   "version": "3.12.7"
  }
 },
 "nbformat": 4,
 "nbformat_minor": 2
}
